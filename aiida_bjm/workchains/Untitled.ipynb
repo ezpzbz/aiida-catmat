{
 "cells": [
  {
   "cell_type": "code",
   "execution_count": 1,
   "metadata": {},
   "outputs": [],
   "source": [
    "import yaml"
   ]
  },
  {
   "cell_type": "code",
   "execution_count": 2,
   "metadata": {},
   "outputs": [],
   "source": [
    "import os"
   ]
  },
  {
   "cell_type": "code",
   "execution_count": 3,
   "metadata": {},
   "outputs": [],
   "source": [
    "thisdir = '/storage/brno9-ceitec/home/pezhman/projects/git_repos/aiida-bjm/aiida_bjm/workchains'"
   ]
  },
  {
   "cell_type": "code",
   "execution_count": 6,
   "metadata": {},
   "outputs": [],
   "source": [
    "protocol_path = os.path.join(thisdir,'protocols','vasp','two_stage_std.yml')"
   ]
  },
  {
   "cell_type": "code",
   "execution_count": 7,
   "metadata": {},
   "outputs": [],
   "source": [
    "with open(protocol_path, 'r') as stream:\n",
    "    protocol = yaml.safe_load(stream)"
   ]
  },
  {
   "cell_type": "code",
   "execution_count": 8,
   "metadata": {},
   "outputs": [
    {
     "data": {
      "text/plain": [
       "{'setting_0': {'ALGO': 'All',\n",
       "  'EDIFF': 0.0001,\n",
       "  'EDIFFG': -0.005,\n",
       "  'ENCUT': 720,\n",
       "  'GGA': 'PS',\n",
       "  'ISMEAR': 0,\n",
       "  'ISPIN': 2,\n",
       "  'LASPH': True,\n",
       "  'LORBIT': 11,\n",
       "  'LREAL': 'AUTO',\n",
       "  'PREC': 'Accurate',\n",
       "  'SIGMA': 0.05,\n",
       "  'ISYM': 0,\n",
       "  'SYMPREC': 1e-08,\n",
       "  'IBRION': 2,\n",
       "  'LWAVE': True},\n",
       " 'stage_0': {'ISIF': 2, 'NELM': 60, 'NSW': 5},\n",
       " 'stage_1': {'ISIF': 3, 'NELM': 200, 'NSW': 400}}"
      ]
     },
     "execution_count": 8,
     "metadata": {},
     "output_type": "execute_result"
    }
   ],
   "source": [
    "protocol"
   ]
  },
  {
   "cell_type": "code",
   "execution_count": null,
   "metadata": {},
   "outputs": [],
   "source": []
  }
 ],
 "metadata": {
  "kernelspec": {
   "display_name": "Python 3.7.3 64-bit ('aiidaprod': virtualenv)",
   "language": "python",
   "name": "python37364bitaiidaprodvirtualenvde3e741ea94440689a2b6eecbc5bae09"
  },
  "language_info": {
   "codemirror_mode": {
    "name": "ipython",
    "version": 3
   },
   "file_extension": ".py",
   "mimetype": "text/x-python",
   "name": "python",
   "nbconvert_exporter": "python",
   "pygments_lexer": "ipython3",
   "version": "3.7.3"
  }
 },
 "nbformat": 4,
 "nbformat_minor": 2
}
