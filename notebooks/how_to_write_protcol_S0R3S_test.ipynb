{
 "cells": [
  {
   "cell_type": "markdown",
   "metadata": {},
   "source": [
    "# Tutorial on how to prepare a protocol file for `VaspMultiStageWorkChain`\n",
    "\n",
    "## S0R3S_test protocol:\n",
    "It is same as S03RS but with `Accurate = Normal` and `ENCUT=500` for testing purposes.\n",
    "\n",
    "This protocol has three stages:\n",
    "1. S0: initial static to grasp information about system and settings\n",
    "2. R3: production relaxation to do the job.\n",
    "3. S: final static calculation for having accurate energies!\n",
    "\n",
    "\n",
    "## Step 1: Loading modules:\n",
    "We need to load following modules:\n",
    "* `os`: to help writing the results file to desired location\n",
    "* `yaml`: to convert python dictionary to yaml file\n",
    "* `Structure` class from `pymatgen`: to generate `pymatgen` `Structure` object\n",
    "* All classes from `VASP` sets of `pymatgen`: to get pre-defined and tested sets as starting point."
   ]
  },
  {
   "cell_type": "code",
   "execution_count": 10,
   "metadata": {},
   "outputs": [],
   "source": [
    "import os\n",
    "import yaml\n",
    "from pymatgen import Structure\n",
    "from pymatgen.io.vasp.sets import *"
   ]
  },
  {
   "cell_type": "markdown",
   "metadata": {},
   "source": [
    "## Step 2: Generate `Structure` object\n",
    "The inputs sets from `pymatgen` require a `Structure` object to be passed through to work.\n",
    "It can be any structure~"
   ]
  },
  {
   "cell_type": "code",
   "execution_count": 11,
   "metadata": {},
   "outputs": [],
   "source": [
    "structure = Structure.from_file('../examples/files/Li_bcc_222.vasp')"
   ]
  },
  {
   "cell_type": "markdown",
   "metadata": {},
   "source": [
    "## Step 3: Get the `INCAR` from sets and polish them\n",
    "`pymatgen` comes with a handful of input sets. Below, we use ones used `Materials Project` for `static` and `relax` calculations. We then remove `'@module', '@class', 'MAGMOM'` keys that comes with them. \n",
    "\n",
    "**Notes**:\n",
    "* We remove `MAGMOM` to remove dependency of protocol to the structure. It will be dealt with within the workchain."
   ]
  },
  {
   "cell_type": "code",
   "execution_count": 12,
   "metadata": {},
   "outputs": [],
   "source": [
    "incar_stage_0 = MPStaticSet(structure).incar.as_dict()\n",
    "incar_stage_1 = MPRelaxSet(structure).incar.as_dict()\n",
    "incar_stage_2 = MPStaticSet(structure).incar.as_dict()\n",
    "\n",
    "for dicts in [incar_stage_0, incar_stage_1, incar_stage_2]:\n",
    "    for keys in ['@module', '@class', 'MAGMOM']:\n",
    "        del dicts[keys]"
   ]
  },
  {
   "cell_type": "markdown",
   "metadata": {},
   "source": [
    "## Step 4: Generating a dictionary with all stages\n",
    "Herein, we define a new `object` and put the `INCAR`s under `stage_x` keys. Note that put them in the order you would like them to be called within the workchain."
   ]
  },
  {
   "cell_type": "code",
   "execution_count": 13,
   "metadata": {},
   "outputs": [],
   "source": [
    "all_stages = {}\n",
    "all_stages['stage_0'] = incar_stage_0\n",
    "all_stages['stage_1'] = incar_stage_1\n",
    "all_stages['stage_2'] = incar_stage_2"
   ]
  },
  {
   "cell_type": "markdown",
   "metadata": {},
   "source": [
    "## Step 5 (optional): Modifying stages\n",
    "In case you would like to modify some parameters from `INCAR` to differ from the provided values from sets, here you may do it before dumping them to the `yaml` file."
   ]
  },
  {
   "cell_type": "markdown",
   "metadata": {},
   "source": [
    "### Modifications for `initial_static` run"
   ]
  },
  {
   "cell_type": "code",
   "execution_count": 14,
   "metadata": {},
   "outputs": [],
   "source": [
    "# We change it to Fast as initial setting\n",
    "all_stages['stage_0']['ALGO'] = 'Fast'\n",
    "# Seems reasonable for an initial static run\n",
    "all_stages['stage_0']['EDIFF'] = 1e-4\n",
    "# It is the highest cutoff for Li (in VASP 5.4 PAW set)\n",
    "# It is static we do not need to use 1.3 times on max ENCUT.\n",
    "all_stages['stage_0']['ENCUT'] = 500\n",
    "# Change to Gaussian smearing as initial setting\n",
    "all_stages['stage_0']['ISMEAR'] = 0\n",
    "# In the initial static run, we do not need to generate these potential files!\n",
    "all_stages['stage_0']['LAECHG'] = False\n",
    "all_stages['stage_0']['LCHARG'] = False\n",
    "all_stages['stage_0']['LVHAR'] = False\n",
    "# Increase number of electronic steps!\n",
    "all_stages['stage_0']['NELM'] = 200\n",
    "all_stages['stage_0']['PREC'] = 'Normal'"
   ]
  },
  {
   "cell_type": "markdown",
   "metadata": {},
   "source": [
    "### Modifications for `relax` run"
   ]
  },
  {
   "cell_type": "code",
   "execution_count": 15,
   "metadata": {},
   "outputs": [],
   "source": [
    "# Tigher criteria can improve convergence\n",
    "all_stages['stage_1']['EDIFF'] = 1e-5\n",
    "# Herein, we use ~1.3*499 (Li_sv) as the maximum default value.\n",
    "# It can be changed within the workchain.\n",
    "all_stages['stage_1']['ENCUT'] = 500\n",
    "# We are not necessarily restarting! Let it be VASP default. \n",
    "# Extra modifications will be done within workchain!\n",
    "del all_stages['stage_1']['ICHARG']\n",
    "# Change to Gaussian smearing as initial setting\n",
    "all_stages['stage_1']['ISMEAR'] = 0\n",
    "# Write WAVECAR. It can be handy in case of restart!\n",
    "all_stages['stage_1']['LWAVE'] = True\n",
    "# Increase number of electronic steps!\n",
    "all_stages['stage_1']['NELM'] = 200\n",
    "# Increase number of ionic steps!\n",
    "all_stages['stage_1']['NSW'] = 400\n",
    "all_stages['stage_1']['PREC'] = 'Normal'"
   ]
  },
  {
   "cell_type": "markdown",
   "metadata": {},
   "source": [
    "### Modifications for `final_static` run"
   ]
  },
  {
   "cell_type": "code",
   "execution_count": 16,
   "metadata": {},
   "outputs": [],
   "source": [
    "# We change it to Fast as initial setting\n",
    "all_stages['stage_2']['ALGO'] = 'Fast'\n",
    "# Even tighter compared to relax\n",
    "all_stages['stage_2']['EDIFF'] = 1e-7\n",
    "# Let's have it at 700\n",
    "all_stages['stage_2']['ENCUT'] = 500\n",
    "# Change to Gaussian smearing as initial setting\n",
    "all_stages['stage_2']['ISMEAR'] = 0\n",
    "# In the final static, we may need these files for possible Bader/DDEC charge analysis!\n",
    "all_stages['stage_2']['LAECHG'] = True\n",
    "all_stages['stage_2']['LCHARG'] = True\n",
    "all_stages['stage_2']['LVHAR'] = True\n",
    "# Increase number of electronic steps!\n",
    "all_stages['stage_2']['NELM'] = 200\n",
    "all_stages['stage_2']['PREC'] = 'Normal'"
   ]
  },
  {
   "cell_type": "markdown",
   "metadata": {},
   "source": [
    "## Step 6: Checking the final results"
   ]
  },
  {
   "cell_type": "code",
   "execution_count": 17,
   "metadata": {},
   "outputs": [
    {
     "name": "stdout",
     "output_type": "stream",
     "text": [
      "stage_0:\n",
      "  ALGO: Fast\n",
      "  EDIFF: 0.0001\n",
      "  ENCUT: 500\n",
      "  IBRION: -1\n",
      "  ICHARG: 0\n",
      "  ISIF: 3\n",
      "  ISMEAR: 0\n",
      "  ISPIN: 2\n",
      "  LAECHG: false\n",
      "  LCHARG: false\n",
      "  LORBIT: 11\n",
      "  LREAL: Auto\n",
      "  LVHAR: false\n",
      "  LWAVE: false\n",
      "  NELM: 200\n",
      "  NSW: 0\n",
      "  PREC: Normal\n",
      "  SIGMA: 0.05\n",
      "stage_1:\n",
      "  ALGO: Fast\n",
      "  EDIFF: 1.0e-05\n",
      "  ENCUT: 500\n",
      "  IBRION: 2\n",
      "  ISIF: 3\n",
      "  ISMEAR: 0\n",
      "  ISPIN: 2\n",
      "  LORBIT: 11\n",
      "  LREAL: Auto\n",
      "  LWAVE: true\n",
      "  NELM: 200\n",
      "  NSW: 400\n",
      "  PREC: Normal\n",
      "  SIGMA: 0.05\n",
      "stage_2:\n",
      "  ALGO: Fast\n",
      "  EDIFF: 1.0e-07\n",
      "  ENCUT: 500\n",
      "  IBRION: -1\n",
      "  ICHARG: 0\n",
      "  ISIF: 3\n",
      "  ISMEAR: 0\n",
      "  ISPIN: 2\n",
      "  LAECHG: true\n",
      "  LCHARG: true\n",
      "  LORBIT: 11\n",
      "  LREAL: Auto\n",
      "  LVHAR: true\n",
      "  LWAVE: false\n",
      "  NELM: 200\n",
      "  NSW: 0\n",
      "  PREC: Normal\n",
      "  SIGMA: 0.05\n",
      "\n"
     ]
    }
   ],
   "source": [
    "print(yaml.dump(all_stages))"
   ]
  },
  {
   "cell_type": "markdown",
   "metadata": {},
   "source": [
    "## Step 7: Writing the results to a `yaml` file\n",
    "As we would like to use them with our workchain, we can write it to protocol folder."
   ]
  },
  {
   "cell_type": "code",
   "execution_count": 18,
   "metadata": {},
   "outputs": [],
   "source": [
    "# We need to give a name to file.\n",
    "# My suggestion is:\n",
    "# S for static, R for relax, N for non-scf static, m for md\n",
    "# These can be follow by 0 for initial\n",
    "# In the case of relax: R can be followed by ISIF too.\n",
    "# S0R3S: initial static --> relax(isif 3) --> final static\n",
    "# S0R3SN: static --> relax(isif 3) --> static --> NSCF static\n",
    "# R02R3S: initial relax(isif 2) --> relax(isif 3) --> static\n",
    "\n",
    "# So here we would have: S0R3S\n",
    "protocol_name = 'S0R3S_test.yaml'\n",
    "this_directory = os.getcwd()\n",
    "yaml_path = os.path.join(this_directory, '..', 'aiida_bjm', 'workchains', 'protocols', 'vasp', protocol_name)\n",
    "with open(os.path.join(yaml_path), 'w') as file:\n",
    "    yaml.dump(all_stages, file)"
   ]
  }
 ],
 "metadata": {
  "kernelspec": {
   "display_name": "Python 3",
   "language": "python",
   "name": "python3"
  },
  "language_info": {
   "codemirror_mode": {
    "name": "ipython",
    "version": 3
   },
   "file_extension": ".py",
   "mimetype": "text/x-python",
   "name": "python",
   "nbconvert_exporter": "python",
   "pygments_lexer": "ipython3",
   "version": "3.6.10"
  }
 },
 "nbformat": 4,
 "nbformat_minor": 4
}
